{
 "cells": [
  {
   "cell_type": "markdown",
   "metadata": {
    "collapsed": true
   },
   "source": [
    "# What Apps Attract Users? \n",
    "## Google Play and Apple Store Analysis\n",
    "\n",
    "In this scenario, we are data analysts for a company that builds Android and iOS mobile apps. We make our apps available on Google Play and the App Store.\n",
    "\n",
    "The company only creates English-speaking apps that are free to download and install; the main source of revenue is from in-app ads. This means our **revenue for any given app is mostly influenced by the number of users who use our app**.  We want users who see and engage with the ads. \n",
    "\n",
    "The goal for this project is to analyze data to help our developers understand what type of apps are likely to attract more users.\n",
    "\n",
    "The data sets used are:\n",
    "\n",
    "1. A [data set](https://www.kaggle.com/lava18/google-play-store-apps) containing data about approximately 10,000 Android apps from Google Play; the data was collected in August 2018.\n",
    "2. A [data set](https://www.kaggle.com/ramamet4/app-store-apple-data-set-10k-apps) containing data about approximately 7,000 iOS apps from the App Store; the data was collected in July 2017.\n",
    "\n",
    "After exploring the data, both data sets will be examined for rows that do not contain complete data, duplicate rows, and non-English speaking apps.  From there, free apps will be isolated.\n",
    "\n",
    "The validation strategy of the company to minimize risks and overhead are as follows:\n",
    "To minimize risks and overhead, our validation strategy for an app idea is comprised of three steps:\n",
    "\n",
    "1. Build a minimal Android version of the app, and add it to Google Play.\n",
    "2. If the app has a good response from users, we develop it further.\n",
    "3. If the app is profitable after six months, we build an iOS version of the app and add it to the App Store.\n",
    "\n",
    "The end goal is to add the app on both Google Play and the App Store, so it is important to determine app profiles that are successful on both markets. "
   ]
  },
  {
   "cell_type": "code",
   "execution_count": 1,
   "metadata": {
    "collapsed": false
   },
   "outputs": [],
   "source": [
    "## The explore data function allows us to print the rows in a \n",
    "## readable way and is provided by DataQuest\n",
    "\n",
    "def explore_data(dataset, start, end, rows_and_columns=False):\n",
    "    dataset_slice = dataset[start:end]    \n",
    "    for row in dataset_slice:\n",
    "        print(row)\n",
    "        print('\\n') # adds a new (empty) line after each row\n",
    "\n",
    "    if rows_and_columns:\n",
    "        print('Number of rows:', len(dataset))\n",
    "        print('Number of columns:', len(dataset[0]))\n",
    "        \n",
    "## Open and read a dataset into a list\n",
    "\n",
    "def prep_file(filename):\n",
    "    from csv import reader\n",
    "    opened_file = open(filename)\n",
    "    read_file = reader(opened_file)\n",
    "    output = list(read_file)\n",
    "    opened_file.close()\n",
    "    return output"
   ]
  },
  {
   "cell_type": "code",
   "execution_count": 2,
   "metadata": {
    "collapsed": false,
    "scrolled": true
   },
   "outputs": [
    {
     "name": "stdout",
     "output_type": "stream",
     "text": [
      "['id', 'track_name', 'size_bytes', 'currency', 'price', 'rating_count_tot', 'rating_count_ver', 'user_rating', 'user_rating_ver', 'ver', 'cont_rating', 'prime_genre', 'sup_devices.num', 'ipadSc_urls.num', 'lang.num', 'vpp_lic']\n",
      "\n",
      "\n",
      "['284882215', 'Facebook', '389879808', 'USD', '0.0', '2974676', '212', '3.5', '3.5', '95.0', '4+', 'Social Networking', '37', '1', '29', '1']\n",
      "\n",
      "\n",
      "['389801252', 'Instagram', '113954816', 'USD', '0.0', '2161558', '1289', '4.5', '4.0', '10.23', '12+', 'Photo & Video', '37', '0', '29', '1']\n",
      "\n",
      "\n",
      "Number of rows: 7198\n",
      "Number of columns: 16\n"
     ]
    }
   ],
   "source": [
    "## Open and explore the Apple Store dataset\n",
    "\n",
    "apple_data = prep_file(\"AppleStore.csv\")\n",
    "explore_data(apple_data, 0, 3, rows_and_columns=True)\n"
   ]
  },
  {
   "cell_type": "markdown",
   "metadata": {},
   "source": [
    "### Initial Thoughts: Apple Store Data Analysis\n",
    "\n",
    "We are given the following information:\n",
    "\n",
    "\"id\" : App ID\n",
    "\n",
    "\"track_name\": App Name\n",
    "\n",
    "\"size_bytes\": Size (in Bytes)\n",
    "\n",
    "\"currency\": Currency Type\n",
    "\n",
    "\"price\": Price amount\n",
    "\n",
    "\"rating_count_tot\": User Rating counts (for all version)\n",
    "\n",
    "\"rating_count_ver\": User Rating counts (for current version)\n",
    "\n",
    "\"user_rating\" : Average User Rating value (for all version)\n",
    "\n",
    "\"user_rating_ver\": Average User Rating value (for current version)\n",
    "\n",
    "\"ver\" : Latest version code\n",
    "\n",
    "\"cont_rating\": Content Rating\n",
    "\n",
    "\"prime_genre\": Primary Genre\n",
    "\n",
    "\"sup_devices.num\": Number of supporting devices\n",
    "\n",
    "\"ipadSc_urls.num\": Number of screenshots showed for display\n",
    "\n",
    "\"lang.num\": Number of supported languages\n",
    "\n",
    "\"vpp_lic\": Vpp Device Based Licensing Enabled\n",
    "\n",
    "Based on the information provided, we will need to do some data cleaning to eliminate paid apps, followed by taking a closer look at the data to see if any rows might be irrelevant (ie. non-English apps).  From there, I might get more information on the rating count totals, eliminate outliers, and then break the remaining data down by genre to make a recommendation."
   ]
  },
  {
   "cell_type": "code",
   "execution_count": 3,
   "metadata": {
    "collapsed": false
   },
   "outputs": [
    {
     "name": "stdout",
     "output_type": "stream",
     "text": [
      "['App', 'Category', 'Rating', 'Reviews', 'Size', 'Installs', 'Type', 'Price', 'Content Rating', 'Genres', 'Last Updated', 'Current Ver', 'Android Ver']\n",
      "\n",
      "\n",
      "['Photo Editor & Candy Camera & Grid & ScrapBook', 'ART_AND_DESIGN', '4.1', '159', '19M', '10,000+', 'Free', '0', 'Everyone', 'Art & Design', 'January 7, 2018', '1.0.0', '4.0.3 and up']\n",
      "\n",
      "\n",
      "['Coloring book moana', 'ART_AND_DESIGN', '3.9', '967', '14M', '500,000+', 'Free', '0', 'Everyone', 'Art & Design;Pretend Play', 'January 15, 2018', '2.0.0', '4.0.3 and up']\n",
      "\n",
      "\n",
      "Number of rows: 10842\n",
      "Number of columns: 13\n"
     ]
    }
   ],
   "source": [
    "## Open and explore the Google Play dataset\n",
    "\n",
    "google_data = prep_file(\"googleplaystore.csv\")\n",
    "explore_data(google_data, 0, 3, rows_and_columns=True)"
   ]
  },
  {
   "cell_type": "markdown",
   "metadata": {},
   "source": [
    "### Initial Thoughts: Google Play Store Data Analysis\n",
    "\n",
    "We are given the following:\n",
    "\n",
    "App: Application name\n",
    "\n",
    "Category: Category the app belongs to\n",
    "\n",
    "Rating: Overall user rating of the app (as when scraped)\n",
    "\n",
    "Reviews: Number of user reviews for the app (as when scraped)\n",
    "\n",
    "Size: Size of the app (as when scraped)\n",
    "\n",
    "Installs: Number of user downloads/installs for the app (as when scraped)\n",
    "\n",
    "Type: Paid or Free\n",
    "\n",
    "Price: Price of the app (as when scraped)\n",
    "\n",
    "Content:  RatingAge group the app is targeted at - Children / Mature 21+ / Adult\n",
    "\n",
    "Genres: An app can belong to multiple genres (apart from its main category). For eg, a musical family game will belong to Music, Game, Family genres.\n",
    "\n",
    "Last Updated: Date when the app was last updated on Play Store (as when scraped)\n",
    "\n",
    "Current Ver: Current version of the app available on Play Store (as when scraped)\n",
    "\n",
    "Android Ver: Min required Android version (as when scraped)\n",
    "\n",
    "Based on the information provided, we will need to do some data cleaning to eliminate paid apps, followed by taking a closer look at the data to see if any rows might be irrelevant (similar to the App Store data).  From there, I might get more information on the number of installs, eliminate outliers, and then break the remaining data down by genre to make a recommendation."
   ]
  },
  {
   "cell_type": "markdown",
   "metadata": {},
   "source": [
    "### Data Cleaning: Google Play\n",
    "\n",
    "From the Google Play [discussion section](https://www.kaggle.com/lava18/google-play-store-apps/discussion/66015), one of the rows has missing data and should be removed.  We also know from the [discussions](https://www.kaggle.com/lava18/google-play-store-apps/discussion) section that there is duplicate data.  We need to remove non-English apps.  Finally, we will need to get rid of paid apps.\n",
    "\n",
    "#### First, we will get rid of any rows with missing data:\n"
   ]
  },
  {
   "cell_type": "code",
   "execution_count": 4,
   "metadata": {
    "collapsed": false
   },
   "outputs": [
    {
     "name": "stdout",
     "output_type": "stream",
     "text": [
      "['Life Made WI-Fi Touchscreen Photo Frame', '1.9', '19', '3.0M', '1,000+', 'Free', '0', 'Everyone', '', 'February 11, 2018', '1.0.19', '4.0 and up']\n",
      "10473\n"
     ]
    }
   ],
   "source": [
    "## Find the row with missing data by comparing row lengths\n",
    "\n",
    "header_length = len(google_data[0])\n",
    "for row in google_data[1:]:\n",
    "    rowlength = len(row) \n",
    "    if rowlength != header_length:\n",
    "        print(row)\n",
    "        print(google_data.index(row))"
   ]
  },
  {
   "cell_type": "code",
   "execution_count": 5,
   "metadata": {
    "collapsed": true
   },
   "outputs": [],
   "source": [
    "## Remove the row \n",
    "\n",
    "del google_data[10473]\n",
    "\n",
    "## Confirm removal by running code from previous cell\n",
    "\n",
    "header_length = len(google_data[0])\n",
    "for row in google_data[1:]:\n",
    "    rowlength = len(row) \n",
    "    if rowlength != header_length:\n",
    "        print(row)\n",
    "        print(google_data.index(row))"
   ]
  },
  {
   "cell_type": "markdown",
   "metadata": {},
   "source": [
    "#### Next, we will remove duplicate rows (when an app occurs more than once):"
   ]
  },
  {
   "cell_type": "code",
   "execution_count": 6,
   "metadata": {
    "collapsed": false
   },
   "outputs": [
    {
     "name": "stdout",
     "output_type": "stream",
     "text": [
      "Number of duplicate rows: 1181\n",
      "\n",
      "\n",
      "Examples: ['Quick PDF Scanner + OCR FREE', 'Box', 'Google My Business', 'ZOOM Cloud Meetings', 'join.me - Simple Meetings']\n"
     ]
    }
   ],
   "source": [
    "## Use modified code from DataQuest to show the number of \n",
    "## duplicate rows based on app name as well as a few examples\n",
    "## of duplicate rows\n",
    "\n",
    "duplicate_apps = []\n",
    "unique_apps = []\n",
    "\n",
    "for row in google_data:\n",
    "    name = row[0]\n",
    "    if name in unique_apps:\n",
    "        duplicate_apps.append(name)\n",
    "    else: \n",
    "        unique_apps.append(name)\n",
    "        \n",
    "print(\"Number of duplicate rows:\", len(duplicate_apps))\n",
    "print(\"\\n\")\n",
    "print(\"Examples:\", duplicate_apps[:5])\n"
   ]
  },
  {
   "cell_type": "code",
   "execution_count": 7,
   "metadata": {
    "collapsed": false
   },
   "outputs": [
    {
     "name": "stdout",
     "output_type": "stream",
     "text": [
      "['Box', 'BUSINESS', '4.2', '159872', 'Varies with device', '10,000,000+', 'Free', '0', 'Everyone', 'Business', 'July 31, 2018', 'Varies with device', 'Varies with device']\n",
      "['Box', 'BUSINESS', '4.2', '159872', 'Varies with device', '10,000,000+', 'Free', '0', 'Everyone', 'Business', 'July 31, 2018', 'Varies with device', 'Varies with device']\n",
      "['Box', 'BUSINESS', '4.2', '159872', 'Varies with device', '10,000,000+', 'Free', '0', 'Everyone', 'Business', 'July 31, 2018', 'Varies with device', 'Varies with device']\n"
     ]
    }
   ],
   "source": [
    "## Next, let's take a closer look at an example to see what \n",
    "## (if any) differences exist for the duplicate rows.  We will\n",
    "## use the \"Box\" app from the examples listed above - this was\n",
    "## chosen randomly\n",
    "\n",
    "for row in google_data:\n",
    "    if row[0] == \"Box\":\n",
    "        print(row)\n",
    "\n"
   ]
  },
  {
   "cell_type": "code",
   "execution_count": 8,
   "metadata": {
    "collapsed": false
   },
   "outputs": [
    {
     "name": "stdout",
     "output_type": "stream",
     "text": [
      "['Instagram', 'SOCIAL', '4.5', '66577313', 'Varies with device', '1,000,000,000+', 'Free', '0', 'Teen', 'Social', 'July 31, 2018', 'Varies with device', 'Varies with device']\n",
      "['Instagram', 'SOCIAL', '4.5', '66577446', 'Varies with device', '1,000,000,000+', 'Free', '0', 'Teen', 'Social', 'July 31, 2018', 'Varies with device', 'Varies with device']\n",
      "['Instagram', 'SOCIAL', '4.5', '66577313', 'Varies with device', '1,000,000,000+', 'Free', '0', 'Teen', 'Social', 'July 31, 2018', 'Varies with device', 'Varies with device']\n",
      "['Instagram', 'SOCIAL', '4.5', '66509917', 'Varies with device', '1,000,000,000+', 'Free', '0', 'Teen', 'Social', 'July 31, 2018', 'Varies with device', 'Varies with device']\n"
     ]
    }
   ],
   "source": [
    "## It appears that these rows are identical.  From DataQuest,\n",
    "## we know that there are differences in the rows for Instagram;\n",
    "## let's take a closer look\n",
    "\n",
    "for row in google_data:\n",
    "    if row[0] == \"Instagram\":\n",
    "        print(row)"
   ]
  },
  {
   "cell_type": "markdown",
   "metadata": {},
   "source": [
    "Based on the Instagram data, it appears that with at least some of the duplicate entries, there is a difference in the number of reviews.  As DataQuest points out, a higher number of reviews represents more recent data, so it would make sense to keep the row with the highest number of reviews.  Now that we have a criterion for keeping one copy of each app, we can move forward with removing duplicate entries"
   ]
  },
  {
   "cell_type": "code",
   "execution_count": 9,
   "metadata": {
    "collapsed": false
   },
   "outputs": [
    {
     "name": "stdout",
     "output_type": "stream",
     "text": [
      "Expected length: 9659\n"
     ]
    }
   ],
   "source": [
    "## First, let's get the expected length of the revised data set\n",
    "## without the header row\n",
    "\n",
    "print(\"Expected length:\", len(google_data[1:]) - len(duplicate_apps))\n",
    "\n"
   ]
  },
  {
   "cell_type": "code",
   "execution_count": 10,
   "metadata": {
    "collapsed": false
   },
   "outputs": [
    {
     "name": "stdout",
     "output_type": "stream",
     "text": [
      "9659\n"
     ]
    }
   ],
   "source": [
    "## Next, create a dictionary with unique app names as the key \n",
    "## with the value being the highest number of reviews.  This will give us\n",
    "## the criteria for creating the cleaned list\n",
    "\n",
    "reviews_max = {}\n",
    "\n",
    "for row in google_data[1:]:\n",
    "    name = row[0]\n",
    "    n_reviews = float(row[3])\n",
    "    \n",
    "## Check to see if name is in the dictionary; if not, add it    \n",
    "    if name not in reviews_max:\n",
    "        reviews_max[name] = n_reviews\n",
    "## Next, if name is in dict, check to see if it has more reviews;\n",
    "## if so, add it\n",
    "    elif (name in reviews_max) and (reviews_max[name] < n_reviews):\n",
    "        reviews_max[name] = n_reviews\n",
    "\n",
    "## Print dictionary length; should match expected length above\n",
    "print(len(reviews_max))"
   ]
  },
  {
   "cell_type": "code",
   "execution_count": 11,
   "metadata": {
    "collapsed": false
   },
   "outputs": [
    {
     "name": "stdout",
     "output_type": "stream",
     "text": [
      "9659\n"
     ]
    }
   ],
   "source": [
    "## Next, use the dictionary above to create a new list of \n",
    "## Google Play apps that does not contain duplicates and has the\n",
    "## highest number of reviews for that app.  Because some entries have the \n",
    "## same number of reviews, we also need to keep track of apps that have \n",
    "## been added to the cleaned list so that duplicate entries do not occur \n",
    "\n",
    "googleplay_clean = []\n",
    "already_added = []\n",
    "\n",
    "for row in google_data[1:]:\n",
    "    name = row[0]\n",
    "    n_reviews = float(row[3])\n",
    "    \n",
    "    if (name not in already_added) and (n_reviews == reviews_max[name]):\n",
    "        googleplay_clean.append(row)\n",
    "        already_added.append(name)\n",
    "\n",
    "## Check length; should be expected length\n",
    "print(len(googleplay_clean))"
   ]
  },
  {
   "cell_type": "markdown",
   "metadata": {},
   "source": [
    "#### Next, we will remove non-English apps \n",
    "\n",
    "Using the fact that English characters are represented by 0-127 in ASCII, we can use this as a basis for finding non-ASCII characters in the app names.  If there are more than three non-ASCII characters, we will assume the app is directed toward a non-English speaking audience and remove it from the cleaned data list."
   ]
  },
  {
   "cell_type": "code",
   "execution_count": 12,
   "metadata": {
    "collapsed": false
   },
   "outputs": [
    {
     "name": "stdout",
     "output_type": "stream",
     "text": [
      "True\n",
      "False\n",
      "True\n",
      "True\n"
     ]
    }
   ],
   "source": [
    "## First, let's find apps with more than three non-English characters \n",
    "## in a string\n",
    "\n",
    "def is_English(app_name):\n",
    "    count = 0\n",
    "    for letter in app_name:\n",
    "        if ord(letter) > 127:\n",
    "            count += 1\n",
    "            if count > 3:\n",
    "                return False\n",
    "    return True\n",
    "\n",
    "## Test the function\n",
    "\n",
    "print(is_English(\"Instagram\"))\n",
    "print(is_English(\"爱奇艺PPS -《欢乐颂2》电视剧热播\"))\n",
    "print(is_English(\"Docs To Go™ Free Office Suite\"))\n",
    "print(is_English(\"Instachat 😜\"))"
   ]
  },
  {
   "cell_type": "code",
   "execution_count": 13,
   "metadata": {
    "collapsed": false
   },
   "outputs": [
    {
     "name": "stdout",
     "output_type": "stream",
     "text": [
      "9614\n"
     ]
    }
   ],
   "source": [
    "## Remove non-English apps from Google Play data\n",
    "\n",
    "googleplay_clean_no_eng = []\n",
    "\n",
    "for row in googleplay_clean:\n",
    "    name = row[0]\n",
    "    if is_English(name):\n",
    "        googleplay_clean_no_eng.append(row)\n",
    "        \n",
    "print(len(googleplay_clean_no_eng))"
   ]
  },
  {
   "cell_type": "markdown",
   "metadata": {},
   "source": [
    "#### Finally, isolate free apps to create final Google Play app list"
   ]
  },
  {
   "cell_type": "code",
   "execution_count": 14,
   "metadata": {
    "collapsed": false
   },
   "outputs": [
    {
     "name": "stdout",
     "output_type": "stream",
     "text": [
      "9614\n",
      "8863\n"
     ]
    }
   ],
   "source": [
    "## List for cleaned data\n",
    "googleplay_final = []\n",
    "\n",
    "for row in googleplay_clean_no_eng:\n",
    "    is_free = row[6]\n",
    "    if is_free == \"Free\":\n",
    "        googleplay_final.append(row)\n",
    "\n",
    "## Confirm lists are different sizes\n",
    "print(len(googleplay_clean_no_eng))\n",
    "print(len(googleplay_final))\n",
    "        "
   ]
  },
  {
   "cell_type": "markdown",
   "metadata": {},
   "source": [
    "### Data Cleaning: Apple Store\n",
    "\n",
    "In the guided project, DataQuest did not have us check for rows with missing data or duplicate rows.  I think that ideally functions could be written to take in a data set and check for this, but I am going to reuse existing code to show these cases do not exist for the Apple Store data.  \n",
    "\n",
    "However, we do need to remove non-English apps.  Finally, we will need to get rid of paid apps.\n",
    "\n",
    "#### First, we will get check for rows with missing data:\n"
   ]
  },
  {
   "cell_type": "code",
   "execution_count": 15,
   "metadata": {
    "collapsed": true
   },
   "outputs": [],
   "source": [
    "## Find rows with missing data by comparing row lengths\n",
    "\n",
    "header_length = len(apple_data[0])\n",
    "for row in apple_data[1:]:\n",
    "    rowlength = len(row) \n",
    "    if rowlength != header_length:\n",
    "        print(row)\n",
    "        print(apple_data.index(row))"
   ]
  },
  {
   "cell_type": "markdown",
   "metadata": {},
   "source": [
    "#### Next, we will check for duplicate rows (when an app occurs more than once):"
   ]
  },
  {
   "cell_type": "code",
   "execution_count": 16,
   "metadata": {
    "collapsed": false
   },
   "outputs": [
    {
     "name": "stdout",
     "output_type": "stream",
     "text": [
      "Number of duplicate rows: 0\n",
      "Examples: []\n"
     ]
    }
   ],
   "source": [
    "## Use modified code from DataQuest to show the number of \n",
    "## duplicate rows based on app name as well as a few examples\n",
    "## of duplicate rows\n",
    "\n",
    "duplicate_apps = []\n",
    "unique_apps = []\n",
    "\n",
    "for row in apple_data:\n",
    "    name = row[0]\n",
    "    if name in unique_apps:\n",
    "        duplicate_apps.append(name)\n",
    "    else: \n",
    "        unique_apps.append(name)\n",
    "        \n",
    "print(\"Number of duplicate rows:\", len(duplicate_apps))\n",
    "print(\"Examples:\", duplicate_apps[:5])\n"
   ]
  },
  {
   "cell_type": "markdown",
   "metadata": {},
   "source": [
    "#### Next, we will remove non-English apps "
   ]
  },
  {
   "cell_type": "code",
   "execution_count": 17,
   "metadata": {
    "collapsed": false
   },
   "outputs": [
    {
     "name": "stdout",
     "output_type": "stream",
     "text": [
      "7198\n",
      "6183\n"
     ]
    }
   ],
   "source": [
    "## Remove non-English apps from Apple Store data\n",
    "\n",
    "apple_no_eng = []\n",
    "\n",
    "## Remove header row at this point\n",
    "for row in apple_data[1:]:\n",
    "\n",
    "## Note that app name is in different column\n",
    "\n",
    "    name = row[1]\n",
    "    if is_English(name):\n",
    "        apple_no_eng.append(row)\n",
    "        \n",
    "print(len(apple_data))\n",
    "print(len(apple_no_eng))"
   ]
  },
  {
   "cell_type": "markdown",
   "metadata": {},
   "source": [
    "#### Finally, isolate free apps to create final Apple Store app list"
   ]
  },
  {
   "cell_type": "code",
   "execution_count": 18,
   "metadata": {
    "collapsed": false
   },
   "outputs": [
    {
     "name": "stdout",
     "output_type": "stream",
     "text": [
      "6183\n",
      "3222\n"
     ]
    }
   ],
   "source": [
    "## List for cleaned data\n",
    "apple_final = []\n",
    "\n",
    "for row in apple_no_eng:\n",
    "    is_free = float(row[4])\n",
    "    if is_free == 0:\n",
    "        apple_final.append(row)\n",
    "\n",
    "## Confirm lists are different sizes\n",
    "print(len(apple_no_eng))\n",
    "print(len(apple_final))"
   ]
  },
  {
   "cell_type": "markdown",
   "metadata": {},
   "source": [
    "### Data Analysis\n",
    "\n",
    "We now have two cleaned datasets, googleplay_final and apple_final.  Because the end goal is to add the app on both Google Play and the App Store, so it is important to determine app profiles that are successful on both markets. \n",
    "\n",
    "For the Apple Store, we are provided information on primary genre (prime_genre column).  For the Google Play Store, we ae given both a category and a genre (the Category and Genre columns, respectively).  \n",
    "\n",
    "First we will generate a frequency table to for any column in a dataset.  Next we will use a function from Dataquest to display the entries of the frequency table in descending order."
   ]
  },
  {
   "cell_type": "code",
   "execution_count": 19,
   "metadata": {
    "collapsed": true
   },
   "outputs": [],
   "source": [
    "## Create frequency table (in percentages) for any column \n",
    "## of interest in a data set.\n",
    "\n",
    "def freq_table(dataset, index):\n",
    "    table = {}\n",
    "    total = 0\n",
    "    for row in dataset:\n",
    "        total += 1\n",
    "        column = row[index]\n",
    "        if column in table:\n",
    "            table[column] += 1\n",
    "        else:\n",
    "            table[column] = 1\n",
    "    \n",
    "    for item in table:\n",
    "        table[item] = (table[item] / total) * 100\n",
    "        \n",
    "    return table\n",
    "\n",
    "## The display_table() function takes in two parameters: dataset\n",
    "## and index. Dataset is expected to be a list of lists, and \n",
    "## index is expected to be an integer. Generates a frequency \n",
    "## table using the freq_table() function above and transforms \n",
    "## the frequency table into a list of tuples, then sorts and \n",
    "## prints the list in a descending order.\n",
    "## Provided by Dataquest\n",
    "\n",
    "def display_table(dataset, index):\n",
    "    table = freq_table(dataset, index)\n",
    "    table_display = []\n",
    "    for key in table:\n",
    "        key_val_as_tuple = (table[key], key)\n",
    "        table_display.append(key_val_as_tuple)\n",
    "\n",
    "    table_sorted = sorted(table_display, reverse = True)\n",
    "    for entry in table_sorted:\n",
    "        print(entry[1], ':', entry[0])\n",
    "        "
   ]
  },
  {
   "cell_type": "code",
   "execution_count": 20,
   "metadata": {
    "collapsed": false
   },
   "outputs": [
    {
     "name": "stdout",
     "output_type": "stream",
     "text": [
      "Games : 58.16263190564867\n",
      "Entertainment : 7.883302296710118\n",
      "Photo & Video : 4.9658597144630665\n",
      "Education : 3.662321539416512\n",
      "Social Networking : 3.2898820608317814\n",
      "Shopping : 2.60707635009311\n",
      "Utilities : 2.5139664804469275\n",
      "Sports : 2.1415270018621975\n",
      "Music : 2.0484171322160147\n",
      "Health & Fitness : 2.0173805090006205\n",
      "Productivity : 1.7380509000620732\n",
      "Lifestyle : 1.5828677839851024\n",
      "News : 1.3345747982619491\n",
      "Travel : 1.2414649286157666\n",
      "Finance : 1.1173184357541899\n",
      "Weather : 0.8690254500310366\n",
      "Food & Drink : 0.8069522036002483\n",
      "Reference : 0.5586592178770949\n",
      "Business : 0.5276225946617008\n",
      "Book : 0.4345127250155183\n",
      "Navigation : 0.186219739292365\n",
      "Medical : 0.186219739292365\n",
      "Catalogs : 0.12414649286157665\n"
     ]
    }
   ],
   "source": [
    "## Display table for prime_genre in Apple Store\n",
    "\n",
    "display_table(apple_final, 11)"
   ]
  },
  {
   "cell_type": "markdown",
   "metadata": {},
   "source": [
    "The Apple Store, in terms of free apps, is dominated by the Games category.  It makes up almost 60% of the market.  This is followed by Entertainment, Photo & Video, and Education."
   ]
  },
  {
   "cell_type": "code",
   "execution_count": 21,
   "metadata": {
    "collapsed": false
   },
   "outputs": [
    {
     "name": "stdout",
     "output_type": "stream",
     "text": [
      "Tools : 8.450863138892023\n",
      "Entertainment : 6.070179397495204\n",
      "Education : 5.348076272142616\n",
      "Business : 4.592124562789123\n",
      "Productivity : 3.8925871601038025\n",
      "Lifestyle : 3.8925871601038025\n",
      "Finance : 3.7007785174320205\n",
      "Medical : 3.5315355974275078\n",
      "Sports : 3.463838429425702\n",
      "Personalization : 3.317161232088458\n",
      "Communication : 3.2381812027530184\n",
      "Action : 3.102786866749408\n",
      "Health & Fitness : 3.0802211440821394\n",
      "Photography : 2.944826808078529\n",
      "News & Magazines : 2.798149610741284\n",
      "Social : 2.6627552747376737\n",
      "Travel & Local : 2.324269434728647\n",
      "Shopping : 2.245289405393208\n",
      "Books & Reference : 2.1437436533904997\n",
      "Simulation : 2.042197901387792\n",
      "Dating : 1.8616721200496444\n",
      "Arcade : 1.8503892587160102\n",
      "Video Players & Editors : 1.771409229380571\n",
      "Casual : 1.7601263680469368\n",
      "Maps & Navigation : 1.399074805370642\n",
      "Food & Drink : 1.241114746699763\n",
      "Puzzle : 1.128286133363421\n",
      "Racing : 0.9928917973598104\n",
      "Role Playing : 0.9364774906916393\n",
      "Libraries & Demo : 0.9364774906916393\n",
      "Auto & Vehicles : 0.9251946293580051\n",
      "Strategy : 0.9026289066907368\n",
      "House & Home : 0.8236488773552973\n",
      "Weather : 0.8010831546880289\n",
      "Events : 0.7108202640189552\n",
      "Adventure : 0.6769716800180525\n",
      "Comics : 0.6092745120162473\n",
      "Beauty : 0.5979916506826132\n",
      "Art & Design : 0.5979916506826132\n",
      "Parenting : 0.4964458986799052\n",
      "Card : 0.4513144533453684\n",
      "Casino : 0.42874873067809993\n",
      "Trivia : 0.4174658693444658\n",
      "Educational;Education : 0.3949001466771973\n",
      "Board : 0.38361728534356315\n",
      "Educational : 0.37233442400992894\n",
      "Education;Education : 0.33848584000902626\n",
      "Word : 0.25950581067358686\n",
      "Casual;Pretend Play : 0.2369400880063184\n",
      "Music : 0.20309150400541578\n",
      "Racing;Action & Adventure : 0.16924292000451313\n",
      "Puzzle;Brain Games : 0.16924292000451313\n",
      "Entertainment;Music & Video : 0.16924292000451313\n",
      "Casual;Brain Games : 0.1353943360036105\n",
      "Casual;Action & Adventure : 0.1353943360036105\n",
      "Arcade;Action & Adventure : 0.1241114746699763\n",
      "Action;Action & Adventure : 0.10154575200270789\n",
      "Educational;Pretend Play : 0.09026289066907367\n",
      "Simulation;Action & Adventure : 0.07898002933543948\n",
      "Parenting;Education : 0.07898002933543948\n",
      "Entertainment;Brain Games : 0.07898002933543948\n",
      "Board;Brain Games : 0.07898002933543948\n",
      "Parenting;Music & Video : 0.06769716800180525\n",
      "Educational;Brain Games : 0.06769716800180525\n",
      "Casual;Creativity : 0.06769716800180525\n",
      "Art & Design;Creativity : 0.06769716800180525\n",
      "Education;Pretend Play : 0.05641430666817105\n",
      "Role Playing;Pretend Play : 0.045131445334536835\n",
      "Education;Creativity : 0.045131445334536835\n",
      "Role Playing;Action & Adventure : 0.033848584000902626\n",
      "Puzzle;Action & Adventure : 0.033848584000902626\n",
      "Entertainment;Creativity : 0.033848584000902626\n",
      "Entertainment;Action & Adventure : 0.033848584000902626\n",
      "Educational;Creativity : 0.033848584000902626\n",
      "Educational;Action & Adventure : 0.033848584000902626\n",
      "Education;Music & Video : 0.033848584000902626\n",
      "Education;Brain Games : 0.033848584000902626\n",
      "Education;Action & Adventure : 0.033848584000902626\n",
      "Adventure;Action & Adventure : 0.033848584000902626\n",
      "Video Players & Editors;Music & Video : 0.022565722667268417\n",
      "Sports;Action & Adventure : 0.022565722667268417\n",
      "Simulation;Pretend Play : 0.022565722667268417\n",
      "Puzzle;Creativity : 0.022565722667268417\n",
      "Music;Music & Video : 0.022565722667268417\n",
      "Entertainment;Pretend Play : 0.022565722667268417\n",
      "Casual;Education : 0.022565722667268417\n",
      "Board;Action & Adventure : 0.022565722667268417\n",
      "Video Players & Editors;Creativity : 0.011282861333634209\n",
      "Trivia;Education : 0.011282861333634209\n",
      "Travel & Local;Action & Adventure : 0.011282861333634209\n",
      "Tools;Education : 0.011282861333634209\n",
      "Strategy;Education : 0.011282861333634209\n",
      "Strategy;Creativity : 0.011282861333634209\n",
      "Strategy;Action & Adventure : 0.011282861333634209\n",
      "Simulation;Education : 0.011282861333634209\n",
      "Role Playing;Brain Games : 0.011282861333634209\n",
      "Racing;Pretend Play : 0.011282861333634209\n",
      "Puzzle;Education : 0.011282861333634209\n",
      "Parenting;Brain Games : 0.011282861333634209\n",
      "Music & Audio;Music & Video : 0.011282861333634209\n",
      "Lifestyle;Pretend Play : 0.011282861333634209\n",
      "Lifestyle;Education : 0.011282861333634209\n",
      "Health & Fitness;Education : 0.011282861333634209\n",
      "Health & Fitness;Action & Adventure : 0.011282861333634209\n",
      "Entertainment;Education : 0.011282861333634209\n",
      "Communication;Creativity : 0.011282861333634209\n",
      "Comics;Creativity : 0.011282861333634209\n",
      "Casual;Music & Video : 0.011282861333634209\n",
      "Card;Action & Adventure : 0.011282861333634209\n",
      "Books & Reference;Education : 0.011282861333634209\n",
      "Art & Design;Pretend Play : 0.011282861333634209\n",
      "Art & Design;Action & Adventure : 0.011282861333634209\n",
      "Arcade;Pretend Play : 0.011282861333634209\n",
      "Adventure;Education : 0.011282861333634209\n"
     ]
    }
   ],
   "source": [
    "## Display table for Genres in Google Play Store\n",
    "\n",
    "display_table(googleplay_final, 9)"
   ]
  },
  {
   "cell_type": "markdown",
   "metadata": {},
   "source": [
    "The Genre column in the Google Play store does not have a dominant group like the Apple Store.  The top genres are tools, entertainment, education and business.\n",
    "\n",
    "There does not appear to be a games group in genre, but if the list is closely examined, it looks like games are broken down into multiple genres.  Addition together genres such as Simulation, Arcade, Puzzle, Racing, and Role Playing may bring a \"games\" genre closer to the top of the list.  Also, education and entertainment are both high on the list, which is consistent with the Apple Store.    "
   ]
  },
  {
   "cell_type": "code",
   "execution_count": 22,
   "metadata": {
    "collapsed": false
   },
   "outputs": [
    {
     "name": "stdout",
     "output_type": "stream",
     "text": [
      "FAMILY : 18.898792733837304\n",
      "GAME : 9.725826469592688\n",
      "TOOLS : 8.462146000225657\n",
      "BUSINESS : 4.592124562789123\n",
      "LIFESTYLE : 3.9038700214374367\n",
      "PRODUCTIVITY : 3.8925871601038025\n",
      "FINANCE : 3.7007785174320205\n",
      "MEDICAL : 3.5315355974275078\n",
      "SPORTS : 3.396141261423897\n",
      "PERSONALIZATION : 3.317161232088458\n",
      "COMMUNICATION : 3.2381812027530184\n",
      "HEALTH_AND_FITNESS : 3.0802211440821394\n",
      "PHOTOGRAPHY : 2.944826808078529\n",
      "NEWS_AND_MAGAZINES : 2.798149610741284\n",
      "SOCIAL : 2.6627552747376737\n",
      "TRAVEL_AND_LOCAL : 2.335552296062281\n",
      "SHOPPING : 2.245289405393208\n",
      "BOOKS_AND_REFERENCE : 2.1437436533904997\n",
      "DATING : 1.8616721200496444\n",
      "VIDEO_PLAYERS : 1.7939749520478394\n",
      "MAPS_AND_NAVIGATION : 1.399074805370642\n",
      "FOOD_AND_DRINK : 1.241114746699763\n",
      "EDUCATION : 1.1621347173643235\n",
      "ENTERTAINMENT : 0.9590432133589079\n",
      "LIBRARIES_AND_DEMO : 0.9364774906916393\n",
      "AUTO_AND_VEHICLES : 0.9251946293580051\n",
      "HOUSE_AND_HOME : 0.8236488773552973\n",
      "WEATHER : 0.8010831546880289\n",
      "EVENTS : 0.7108202640189552\n",
      "PARENTING : 0.6544059573507841\n",
      "ART_AND_DESIGN : 0.6431230960171499\n",
      "COMICS : 0.6205573733498815\n",
      "BEAUTY : 0.5979916506826132\n"
     ]
    }
   ],
   "source": [
    "## Display table for Category in Google Play Store\n",
    "\n",
    "display_table(googleplay_final, 1)"
   ]
  },
  {
   "cell_type": "markdown",
   "metadata": {},
   "source": [
    "The Category column results are not consistent with the Genre column results from the Google Play Store.  Here, Education and Entertainment are not very popular, but a new category \"Family\"  top the list.  Games is second.  DataQuest notes that the \"Family\" category has many games for kids. "
   ]
  },
  {
   "cell_type": "markdown",
   "metadata": {},
   "source": [
    "#### Initial Data Analysis Results\n",
    "\n",
    "Based on initial results, I would recommend taking a closer look at Games.  Even though they are not as dominant in the Genre group of the Google Play Store, it may be possible that this is due to games being broken down into multiple genres.\n",
    "\n",
    "With the \"Family\" and \"Games\" categories being the highest in the Categories, and with the knowledge that the Family category contains many apps for kids, my initial recommendation would be to develop a kids game.  This would also allow for portability to the Apple Store, as we know that Games are the dominant category.   \n",
    "\n",
    "This initial recommendation, however, is based only on which categories/genres are most popular.  Next, we are going to take a look at the number of users for each category.  The Apple Store does not have a total number of installs, but it does have a rating count total (rating_count_tot) column.  The Google Play Store has an Installs column, as well as the number of user reviews (Reviews column).\n",
    "\n",
    "I think that comparing rating_count_tot from the Apple Store and the Reviews column from the Google Play Store will be the most effective comparison. I think that if a user takes the time to rate an app, they are more likely to use it frequently, which would be of interest to a business trying to get users to click on ads.\n",
    "\n",
    "DataQuest also looks at the Installs column, so I would like to add this to the analysis as well.  "
   ]
  },
  {
   "cell_type": "code",
   "execution_count": 23,
   "metadata": {
    "collapsed": false,
    "scrolled": true
   },
   "outputs": [
    {
     "name": "stdout",
     "output_type": "stream",
     "text": [
      "Navigation : 86090 Number of apps: 6\n",
      "Reference : 74942 Number of apps: 18\n",
      "Social Networking : 71548 Number of apps: 106\n",
      "Music : 57326 Number of apps: 66\n",
      "Weather : 52279 Number of apps: 28\n",
      "Book : 39758 Number of apps: 14\n",
      "Food & Drink : 33333 Number of apps: 26\n",
      "Finance : 31467 Number of apps: 36\n",
      "Photo & Video : 28441 Number of apps: 160\n",
      "Travel : 28243 Number of apps: 40\n",
      "Shopping : 26919 Number of apps: 84\n",
      "Health & Fitness : 23298 Number of apps: 65\n",
      "Sports : 23008 Number of apps: 69\n",
      "Games : 22788 Number of apps: 1874\n",
      "News : 21248 Number of apps: 43\n",
      "Productivity : 21028 Number of apps: 56\n",
      "Utilities : 18684 Number of apps: 81\n",
      "Lifestyle : 16485 Number of apps: 51\n",
      "Entertainment : 14029 Number of apps: 254\n",
      "Business : 7491 Number of apps: 17\n",
      "Education : 7003 Number of apps: 118\n",
      "Catalogs : 4004 Number of apps: 4\n",
      "Medical : 612 Number of apps: 6\n"
     ]
    }
   ],
   "source": [
    "## Starting with the Apple Store, we will get a frequency table \n",
    "## for prime_genre\n",
    "\n",
    "apple_genre = freq_table(apple_final, 11)\n",
    "\n",
    "## Next, calculate the average number of user ratings\n",
    "table_display = []\n",
    "for genre in apple_genre:\n",
    "    total = 0\n",
    "    len_genre = 0\n",
    "    for row in apple_final:\n",
    "        genre_app = row[11]\n",
    "        if genre_app == genre:\n",
    "            total += float(row[5])\n",
    "            len_genre +=1\n",
    "    ## Convert to int to make results more readable\n",
    "    average = int(total/len_genre) \n",
    "    \n",
    "    \n",
    "## Repurpose code from DataQuest to create sorted list by average number \n",
    "## of user ratings, as well as the number of apps in that genre\n",
    "    key_val_as_tuple = (average,genre, len_genre)\n",
    "    table_display.append(key_val_as_tuple)\n",
    "\n",
    "\n",
    "table_sorted = sorted(table_display, reverse = True)\n",
    "for entry in table_sorted:\n",
    "    print(entry[1], ':', entry[0], \"Number of apps:\", entry[2])\n",
    "    "
   ]
  },
  {
   "cell_type": "markdown",
   "metadata": {},
   "source": [
    "After taking a closer look, I can't help but wonder if there are some outliers (ie. really popular apps, or maybe apps with no ratings) skewing the averages."
   ]
  },
  {
   "cell_type": "code",
   "execution_count": 24,
   "metadata": {
    "collapsed": false
   },
   "outputs": [
    {
     "name": "stdout",
     "output_type": "stream",
     "text": [
      "Max:  2974676\n",
      "Min:  0\n",
      "Average:  24824\n"
     ]
    }
   ],
   "source": [
    "## Let's take a look at overall statistics\n",
    "totals_table = []\n",
    "for row in apple_final:\n",
    "    total = int(row[5])\n",
    "    totals_table.append(total)\n",
    "    \n",
    "print(\"Max: \", max(totals_table))\n",
    "print(\"Min: \", min(totals_table))\n",
    "print(\"Average: \", int(sum(totals_table)/len(totals_table)))"
   ]
  },
  {
   "cell_type": "markdown",
   "metadata": {},
   "source": [
    "It does appear that at least one app has almost 3 million ratings, at least one app has 0 ratings, and the average is about 25K ratings.  Let's create a frequency table to take a closer look:"
   ]
  },
  {
   "cell_type": "code",
   "execution_count": 25,
   "metadata": {
    "collapsed": false
   },
   "outputs": [
    {
     "name": "stdout",
     "output_type": "stream",
     "text": [
      "{'More than 500,000': 19, 'Less than 100': 669}\n"
     ]
    }
   ],
   "source": [
    "apps_freq_table = {\"Less than 100\": 0, \"More than 500,000\": 0}\n",
    "for total in totals_table:\n",
    "    if total < 100:\n",
    "        apps_freq_table[\"Less than 100\"] += 1\n",
    "    elif total > 500000:\n",
    "        apps_freq_table[\"More than 500,000\"] += 1\n",
    "        \n",
    "print(apps_freq_table)\n",
    "    "
   ]
  },
  {
   "cell_type": "markdown",
   "metadata": {},
   "source": [
    "I think these criteria are reasonable cutoffs.  If an app has less than 100 ratings, it is probably not of interest to a company whose interest is in high user numbers.  Cutting off the top 20 apps is also fairly reasonable, given that these are probably the most popular apps everyone has on their phone.  Let's recalculate the average number of user ratings for the genre_app after getting rid of apps with less than 100 ratings and apps with more than 500,000 ratings."
   ]
  },
  {
   "cell_type": "code",
   "execution_count": 26,
   "metadata": {
    "collapsed": false
   },
   "outputs": [
    {
     "name": "stdout",
     "output_type": "stream",
     "text": [
      "Navigation : 103307 Number of apps: 5\n",
      "Weather : 91468 Number of apps: 16\n",
      "Book : 61845 Number of apps: 9\n",
      "Food & Drink : 45608 Number of apps: 19\n",
      "Finance : 43561 Number of apps: 26\n",
      "Social Networking : 37741 Number of apps: 94\n",
      "Travel : 33224 Number of apps: 34\n",
      "Shopping : 30970 Number of apps: 73\n",
      "Music : 30653 Number of apps: 58\n",
      "Sports : 29391 Number of apps: 54\n",
      "Reference : 27924 Number of apps: 13\n",
      "News : 27679 Number of apps: 33\n",
      "Utilities : 25639 Number of apps: 59\n",
      "Productivity : 24028 Number of apps: 49\n",
      "Games : 22080 Number of apps: 1455\n",
      "Health & Fitness : 20537 Number of apps: 49\n",
      "Lifestyle : 20012 Number of apps: 42\n",
      "Photo & Video : 18372 Number of apps: 130\n",
      "Entertainment : 17043 Number of apps: 209\n",
      "Education : 9944 Number of apps: 83\n",
      "Business : 9088 Number of apps: 14\n",
      "Catalogs : 4004 Number of apps: 4\n",
      "Medical : 1214 Number of apps: 3\n"
     ]
    }
   ],
   "source": [
    "## Starting with the Apple Store, we will get a frequency table \n",
    "## for prime_genre\n",
    "\n",
    "apple_genre = freq_table(apple_final, 11)\n",
    "\n",
    "## Next, calculate the average number of user ratings\n",
    "table_display = []\n",
    "for genre in apple_genre:\n",
    "    total = 0\n",
    "    len_genre = 0\n",
    "    for row in apple_final:\n",
    "        genre_app = row[11]\n",
    "        user_ratings = float(row[5])\n",
    "        if genre_app == genre:\n",
    "            if (user_ratings > 100) and (user_ratings < 500000):\n",
    "                total += user_ratings\n",
    "                len_genre +=1\n",
    "    ## Convert to int to make results more readable\n",
    "    average = int(total/len_genre) \n",
    "    \n",
    "    \n",
    "## Repurpose code from DataQuest to create sorted list by average number \n",
    "## of user ratings, as well as the number of apps in that genre\n",
    "    key_val_as_tuple = (average,genre, len_genre)\n",
    "    table_display.append(key_val_as_tuple)\n",
    "\n",
    "\n",
    "table_sorted = sorted(table_display, reverse = True)\n",
    "for entry in table_sorted:\n",
    "    print(entry[1], ':', entry[0], \"Number of apps:\", entry[2])\n",
    "    "
   ]
  },
  {
   "cell_type": "markdown",
   "metadata": {},
   "source": [
    "#### Data Analysis: Apple Store\n",
    "\n",
    "I think these results are a little less skewed.  For the Apple Store, I think there are some categories that may be good targets.  I would suggest taking a look at genres with a high number of ratings but a lower number of apps.  I think a lower number of apps means the market has a less change of being saturated, and there are some genres that might lend themselves to targeted advertising, such as \"Books\", \"Food & Drink\", and \"Travel\".\n",
    "\n",
    "Next, we will look at the number of installs for the Google Play Store per the DataQuest guided project."
   ]
  },
  {
   "cell_type": "code",
   "execution_count": 27,
   "metadata": {
    "collapsed": false
   },
   "outputs": [
    {
     "name": "stdout",
     "output_type": "stream",
     "text": [
      "1,000,000+ : 15.728308699086089\n",
      "100,000+ : 11.55365000564143\n",
      "10,000,000+ : 10.549475346947986\n",
      "10,000+ : 10.199706645605326\n",
      "1,000+ : 8.394448832223853\n",
      "100+ : 6.916393997517771\n",
      "5,000,000+ : 6.826131106848697\n",
      "500,000+ : 5.562450637481666\n",
      "50,000+ : 4.772650344127271\n",
      "5,000+ : 4.513144533453684\n",
      "10+ : 3.542818458761142\n",
      "500+ : 3.2494640640866526\n",
      "50,000,000+ : 2.3017037120613786\n",
      "100,000,000+ : 2.1324607920568655\n",
      "50+ : 1.9180864267178157\n",
      "5+ : 0.7898002933543946\n",
      "1+ : 0.5077287600135394\n",
      "500,000,000+ : 0.270788672007221\n",
      "1,000,000,000+ : 0.2256572266726842\n",
      "0+ : 0.045131445334536835\n"
     ]
    }
   ],
   "source": [
    "## Get the display table for the Installs column\n",
    "\n",
    "display_table(googleplay_final, 5)"
   ]
  },
  {
   "cell_type": "markdown",
   "metadata": {},
   "source": [
    "Because we cannot determine the exact number of installs, we are just going to remove the commas and plus signs so that we can convert the strings to numbers:"
   ]
  },
  {
   "cell_type": "code",
   "execution_count": 28,
   "metadata": {
    "collapsed": false
   },
   "outputs": [
    {
     "name": "stdout",
     "output_type": "stream",
     "text": [
      "COMMUNICATION : 38456119 Number of apps: 287\n",
      "VIDEO_PLAYERS : 24727872 Number of apps: 159\n",
      "SOCIAL : 23253652 Number of apps: 236\n",
      "PHOTOGRAPHY : 17840110 Number of apps: 261\n",
      "PRODUCTIVITY : 16787331 Number of apps: 345\n",
      "GAME : 15588015 Number of apps: 862\n",
      "TRAVEL_AND_LOCAL : 13984077 Number of apps: 207\n",
      "ENTERTAINMENT : 11640705 Number of apps: 85\n",
      "TOOLS : 10801391 Number of apps: 750\n",
      "NEWS_AND_MAGAZINES : 9549178 Number of apps: 248\n",
      "BOOKS_AND_REFERENCE : 8767811 Number of apps: 190\n",
      "SHOPPING : 7036877 Number of apps: 199\n",
      "PERSONALIZATION : 5201482 Number of apps: 294\n",
      "WEATHER : 5074486 Number of apps: 71\n",
      "HEALTH_AND_FITNESS : 4188821 Number of apps: 273\n",
      "MAPS_AND_NAVIGATION : 4056941 Number of apps: 124\n",
      "FAMILY : 3697848 Number of apps: 1675\n",
      "SPORTS : 3638640 Number of apps: 301\n",
      "ART_AND_DESIGN : 1986335 Number of apps: 57\n",
      "FOOD_AND_DRINK : 1924897 Number of apps: 110\n",
      "EDUCATION : 1833495 Number of apps: 103\n",
      "BUSINESS : 1712290 Number of apps: 407\n",
      "LIFESTYLE : 1437816 Number of apps: 346\n",
      "FINANCE : 1387692 Number of apps: 328\n",
      "HOUSE_AND_HOME : 1331540 Number of apps: 73\n",
      "DATING : 854028 Number of apps: 165\n",
      "COMICS : 817657 Number of apps: 55\n",
      "AUTO_AND_VEHICLES : 647317 Number of apps: 82\n",
      "LIBRARIES_AND_DEMO : 638503 Number of apps: 83\n",
      "PARENTING : 542603 Number of apps: 58\n",
      "BEAUTY : 513151 Number of apps: 53\n",
      "EVENTS : 253542 Number of apps: 63\n",
      "MEDICAL : 120550 Number of apps: 313\n"
     ]
    }
   ],
   "source": [
    "## Get a frequency table for Category column\n",
    "\n",
    "googleplay_category = freq_table(googleplay_final, 1)\n",
    "\n",
    "## Get estimate of installs for each category\n",
    "table_display = []\n",
    "for category in googleplay_category:\n",
    "    total = 0\n",
    "    len_category = 0\n",
    "    for row in googleplay_final:\n",
    "        category_app = row[1]\n",
    "        if category_app == category:\n",
    "            installs = row[5]\n",
    "            installs = installs.replace(\"+\", \"\")\n",
    "            installs = installs.replace(\",\", \"\")\n",
    "            installs = float(installs)\n",
    "            total += installs\n",
    "            len_category += 1\n",
    "\n",
    "    ## Convert to int to make results more readable\n",
    "    average = int(total/len_category) \n",
    "    \n",
    "    \n",
    "## Repurpose code from DataQuest to create sorted list by average number \n",
    "## of user ratings, as well as the number of apps in that genre\n",
    "    key_val_as_tuple = (average, category, len_category)\n",
    "    table_display.append(key_val_as_tuple)\n",
    "\n",
    "\n",
    "table_sorted = sorted(table_display, reverse = True)\n",
    "for entry in table_sorted:\n",
    "    print(entry[1], ':', entry[0], \"Number of apps:\", entry[2])\n",
    "    "
   ]
  },
  {
   "cell_type": "markdown",
   "metadata": {},
   "source": [
    "Similar to the Apple Store data, I think it is worth examining potential outliers:"
   ]
  },
  {
   "cell_type": "code",
   "execution_count": 29,
   "metadata": {
    "collapsed": false
   },
   "outputs": [
    {
     "name": "stdout",
     "output_type": "stream",
     "text": [
      "Max:  1000000000.0\n",
      "Min:  0.0\n",
      "Average:  8490471\n"
     ]
    }
   ],
   "source": [
    "## Let's take a look at overall statistics\n",
    "google_totals_table = []\n",
    "for row in googleplay_final:\n",
    "    installs = row[5]\n",
    "    installs = installs.replace(\"+\", \"\")\n",
    "    installs = installs.replace(\",\", \"\")\n",
    "    installs = float(installs)\n",
    "    google_totals_table.append(installs)\n",
    "    \n",
    "print(\"Max: \", max(google_totals_table))\n",
    "print(\"Min: \", min(google_totals_table))\n",
    "print(\"Average: \", int(sum(google_totals_table)/len(google_totals_table)))"
   ]
  },
  {
   "cell_type": "markdown",
   "metadata": {},
   "source": [
    "We confirmed from the previous display table that there are apps with over a billion installs. Let's take a closer look and create a frequency table similar to the Apple Store: "
   ]
  },
  {
   "cell_type": "code",
   "execution_count": 30,
   "metadata": {
    "collapsed": false
   },
   "outputs": [
    {
     "name": "stdout",
     "output_type": "stream",
     "text": [
      "{'More than 500,000,000': 20, 'Less than 100': 603}\n"
     ]
    }
   ],
   "source": [
    "google_apps_freq_table = {\"Less than 100\": 0, \"More than 500,000,000\": 0}\n",
    "for total in google_totals_table:\n",
    "    if total < 100:\n",
    "        google_apps_freq_table[\"Less than 100\"] += 1\n",
    "    elif total > 500000000:\n",
    "        google_apps_freq_table[\"More than 500,000,000\"] += 1\n",
    "        \n",
    "print(google_apps_freq_table)\n",
    "    "
   ]
  },
  {
   "cell_type": "markdown",
   "metadata": {},
   "source": [
    "Similar to the Apple Store, I think these criteria are reasonable cutoffs.  If an app has less than 100 installs, it is probably not of interest to a company whose interest is in high user numbers.  Cutting off the top 20 apps is also fairly reasonable, given that these are probably the most popular apps everyone has on their phone.  There is also value in using consistent criteria.  Let's recalculate the average number of installs for each category after getting rid of apps with less than 100 installs and apps with more than 500,000,000 installs."
   ]
  },
  {
   "cell_type": "code",
   "execution_count": 31,
   "metadata": {
    "collapsed": false
   },
   "outputs": [
    {
     "name": "stdout",
     "output_type": "stream",
     "text": [
      "PHOTOGRAPHY : 14984702 Number of apps: 244\n",
      "GAME : 12837474 Number of apps: 813\n",
      "ENTERTAINMENT : 11640705 Number of apps: 85\n",
      "COMMUNICATION : 11225234 Number of apps: 226\n",
      "PRODUCTIVITY : 10225734 Number of apps: 273\n",
      "VIDEO_PLAYERS : 9739666 Number of apps: 147\n",
      "SHOPPING : 7779652 Number of apps: 180\n",
      "SOCIAL : 7552588 Number of apps: 197\n",
      "TOOLS : 6939726 Number of apps: 663\n",
      "PERSONALIZATION : 6293137 Number of apps: 243\n",
      "WEATHER : 5221572 Number of apps: 69\n",
      "TRAVEL_AND_LOCAL : 4889084 Number of apps: 183\n",
      "SPORTS : 4507111 Number of apps: 243\n",
      "MAPS_AND_NAVIGATION : 4451858 Number of apps: 113\n",
      "BOOKS_AND_REFERENCE : 3849037 Number of apps: 173\n",
      "FAMILY : 3464899 Number of apps: 1499\n",
      "HEALTH_AND_FITNESS : 2898853 Number of apps: 222\n",
      "BUSINESS : 2832898 Number of apps: 246\n",
      "FOOD_AND_DRINK : 2252531 Number of apps: 94\n",
      "ART_AND_DESIGN : 2058563 Number of apps: 55\n",
      "EDUCATION : 1833495 Number of apps: 103\n",
      "NEWS_AND_MAGAZINES : 1822740 Number of apps: 202\n",
      "LIFESTYLE : 1802463 Number of apps: 276\n",
      "FINANCE : 1548164 Number of apps: 294\n",
      "HOUSE_AND_HOME : 1472757 Number of apps: 66\n",
      "DATING : 1059496 Number of apps: 133\n",
      "COMICS : 848509 Number of apps: 53\n",
      "AUTO_AND_VEHICLES : 769268 Number of apps: 69\n",
      "LIBRARIES_AND_DEMO : 670829 Number of apps: 79\n",
      "BEAUTY : 578648 Number of apps: 47\n",
      "PARENTING : 552122 Number of apps: 57\n",
      "EVENTS : 347217 Number of apps: 46\n",
      "MEDICAL : 179650 Number of apps: 210\n"
     ]
    }
   ],
   "source": [
    "## Get a frequency table for Category column\n",
    "\n",
    "googleplay_category = freq_table(googleplay_final, 1)\n",
    "\n",
    "## Get estimate of installs for each category\n",
    "table_display = []\n",
    "for category in googleplay_category:\n",
    "    total = 0\n",
    "    len_category = 0\n",
    "    for row in googleplay_final:\n",
    "        category_app = row[1]\n",
    "        installs = row[5]\n",
    "        installs = installs.replace(\"+\", \"\")\n",
    "        installs = installs.replace(\",\", \"\")\n",
    "        installs = float(installs)\n",
    "        if category_app == category:\n",
    "            if installs > 100 and installs < 500000000:\n",
    "                total += installs\n",
    "                len_category += 1\n",
    "\n",
    "    ## Convert to int to make results more readable\n",
    "    average = int(total/len_category) \n",
    "    \n",
    "## Repurpose code from DataQuest to create sorted list by average number \n",
    "## of user ratings, as well as the number of apps in that genre\n",
    "    key_val_as_tuple = (average, category, len_category)\n",
    "    table_display.append(key_val_as_tuple)\n",
    "\n",
    "\n",
    "table_sorted = sorted(table_display, reverse = True)\n",
    "for entry in table_sorted:\n",
    "    print(entry[1], ':', entry[0], \"Number of apps:\", entry[2])\n",
    "    "
   ]
  },
  {
   "cell_type": "markdown",
   "metadata": {
    "collapsed": true
   },
   "source": [
    "I think it is interesting to note that there are categories without a large number of apps but that do have a lot of installs.  This may be of interest to the company.  Consistent with the Apple Store are \"Food and Drink\".  In the Google Play Store, books are included in the \"Books and Reference\" category, but might still be worth looking into.  Travel is included in \"Travel and Local\".\n",
    "\n",
    "Next, let's take a closer look at the Reviews column from the Google Play Store:"
   ]
  },
  {
   "cell_type": "code",
   "execution_count": 32,
   "metadata": {
    "collapsed": false
   },
   "outputs": [
    {
     "name": "stdout",
     "output_type": "stream",
     "text": [
      "COMMUNICATION : 995608 Number of apps: 287\n",
      "SOCIAL : 965830 Number of apps: 236\n",
      "GAME : 683523 Number of apps: 862\n",
      "VIDEO_PLAYERS : 425350 Number of apps: 159\n",
      "PHOTOGRAPHY : 404081 Number of apps: 261\n",
      "TOOLS : 305732 Number of apps: 750\n",
      "ENTERTAINMENT : 301752 Number of apps: 85\n",
      "SHOPPING : 223887 Number of apps: 199\n",
      "PERSONALIZATION : 181122 Number of apps: 294\n",
      "WEATHER : 171250 Number of apps: 71\n",
      "PRODUCTIVITY : 160634 Number of apps: 345\n",
      "MAPS_AND_NAVIGATION : 142860 Number of apps: 124\n",
      "TRAVEL_AND_LOCAL : 129484 Number of apps: 207\n",
      "SPORTS : 116938 Number of apps: 301\n",
      "FAMILY : 113210 Number of apps: 1675\n",
      "NEWS_AND_MAGAZINES : 93088 Number of apps: 248\n",
      "BOOKS_AND_REFERENCE : 87995 Number of apps: 190\n",
      "HEALTH_AND_FITNESS : 78094 Number of apps: 273\n",
      "FOOD_AND_DRINK : 57478 Number of apps: 110\n",
      "EDUCATION : 56293 Number of apps: 103\n",
      "COMICS : 42585 Number of apps: 55\n",
      "FINANCE : 38535 Number of apps: 328\n",
      "LIFESTYLE : 33921 Number of apps: 346\n",
      "HOUSE_AND_HOME : 26435 Number of apps: 73\n",
      "ART_AND_DESIGN : 24699 Number of apps: 57\n",
      "BUSINESS : 24239 Number of apps: 407\n",
      "DATING : 21953 Number of apps: 165\n",
      "PARENTING : 16378 Number of apps: 58\n",
      "AUTO_AND_VEHICLES : 14140 Number of apps: 82\n",
      "LIBRARIES_AND_DEMO : 10925 Number of apps: 83\n",
      "BEAUTY : 7476 Number of apps: 53\n",
      "MEDICAL : 3730 Number of apps: 313\n",
      "EVENTS : 2555 Number of apps: 63\n"
     ]
    }
   ],
   "source": [
    "## Get a frequency table for Category column\n",
    "\n",
    "googleplay_category = freq_table(googleplay_final, 1)\n",
    "\n",
    "## Get number of reviews for each category\n",
    "table_display = []\n",
    "for category in googleplay_category:\n",
    "    total = 0\n",
    "    len_category = 0\n",
    "    for row in googleplay_final:\n",
    "        category_app = row[1]\n",
    "        if category_app == category:\n",
    "            reviews = int(row[3])\n",
    "            total += reviews\n",
    "            len_category += 1\n",
    "\n",
    "    ## Convert to int to make results more readable\n",
    "    average = int(total/len_category) \n",
    "    \n",
    "    \n",
    "## Repurpose code from DataQuest to create sorted list by average number \n",
    "## of user ratings, as well as the number of apps in that genre\n",
    "    key_val_as_tuple = (average, category, len_category)\n",
    "    table_display.append(key_val_as_tuple)\n",
    "\n",
    "\n",
    "table_sorted = sorted(table_display, reverse = True)\n",
    "for entry in table_sorted:\n",
    "    print(entry[1], ':', entry[0], \"Number of apps:\", entry[2])\n",
    "    "
   ]
  },
  {
   "cell_type": "code",
   "execution_count": 33,
   "metadata": {
    "collapsed": false
   },
   "outputs": [
    {
     "name": "stdout",
     "output_type": "stream",
     "text": [
      "Max:  78158306\n",
      "Min:  0\n",
      "Average:  235492\n"
     ]
    }
   ],
   "source": [
    "## Similar to previous analyses, let's look for potential \n",
    "## outliers\n",
    "\n",
    "## Let's take a look at overall statistics\n",
    "google_totals_table = []\n",
    "for row in googleplay_final:\n",
    "    reviews = int(row[3])\n",
    "    google_totals_table.append(reviews)\n",
    "    \n",
    "print(\"Max: \", max(google_totals_table))\n",
    "print(\"Min: \", min(google_totals_table))\n",
    "print(\"Average: \", int(sum(google_totals_table)/len(google_totals_table)))"
   ]
  },
  {
   "cell_type": "code",
   "execution_count": 34,
   "metadata": {
    "collapsed": false
   },
   "outputs": [
    {
     "name": "stdout",
     "output_type": "stream",
     "text": [
      "{'More than 12,500,000': 19, 'Less than 100': 2925}\n"
     ]
    }
   ],
   "source": [
    "## Similar to before, let's create a frequency table\n",
    "\n",
    "google_apps_freq_table = {\"Less than 100\": 0, \"More than 12,500,000\": 0}\n",
    "for total in google_totals_table:\n",
    "    if total < 100:\n",
    "        google_apps_freq_table[\"Less than 100\"] += 1\n",
    "    elif total > 12500000:\n",
    "        google_apps_freq_table[\"More than 12,500,000\"] += 1\n",
    "        \n",
    "print(google_apps_freq_table)\n",
    "    "
   ]
  },
  {
   "cell_type": "markdown",
   "metadata": {},
   "source": [
    "Let's recalculate the number of reviews for each category after getting rid of apps with less than 100 reviews and apps with more than 12,500,000 reviews."
   ]
  },
  {
   "cell_type": "code",
   "execution_count": 35,
   "metadata": {
    "collapsed": false
   },
   "outputs": [
    {
     "name": "stdout",
     "output_type": "stream",
     "text": [
      "COMMUNICATION : 707179 Number of apps: 183\n",
      "GAME : 586094 Number of apps: 754\n",
      "PHOTOGRAPHY : 490531 Number of apps: 215\n",
      "SOCIAL : 421551 Number of apps: 157\n",
      "VIDEO_PLAYERS : 368193 Number of apps: 114\n",
      "ENTERTAINMENT : 301752 Number of apps: 85\n",
      "PERSONALIZATION : 290972 Number of apps: 183\n",
      "SHOPPING : 287437 Number of apps: 155\n",
      "PRODUCTIVITY : 254206 Number of apps: 218\n",
      "TOOLS : 245777 Number of apps: 482\n",
      "MAPS_AND_NAVIGATION : 210874 Number of apps: 84\n",
      "TRAVEL_AND_LOCAL : 197068 Number of apps: 136\n",
      "WEATHER : 189980 Number of apps: 64\n",
      "FAMILY : 169603 Number of apps: 1118\n",
      "SPORTS : 166812 Number of apps: 211\n",
      "NEWS_AND_MAGAZINES : 150873 Number of apps: 153\n",
      "BOOKS_AND_REFERENCE : 142884 Number of apps: 117\n",
      "HEALTH_AND_FITNESS : 111036 Number of apps: 192\n",
      "FOOD_AND_DRINK : 78049 Number of apps: 81\n",
      "BUSINESS : 71464 Number of apps: 138\n",
      "LIFESTYLE : 63426 Number of apps: 185\n",
      "FINANCE : 57968 Number of apps: 218\n",
      "EDUCATION : 56844 Number of apps: 102\n",
      "COMICS : 49828 Number of apps: 47\n",
      "DATING : 35855 Number of apps: 101\n",
      "HOUSE_AND_HOME : 32160 Number of apps: 60\n",
      "ART_AND_DESIGN : 29948 Number of apps: 47\n",
      "PARENTING : 23727 Number of apps: 40\n",
      "AUTO_AND_VEHICLES : 21463 Number of apps: 54\n",
      "LIBRARIES_AND_DEMO : 19685 Number of apps: 46\n",
      "BEAUTY : 12363 Number of apps: 32\n",
      "MEDICAL : 10398 Number of apps: 112\n",
      "EVENTS : 6165 Number of apps: 26\n"
     ]
    }
   ],
   "source": [
    "## Get a frequency table for Category column\n",
    "\n",
    "googleplay_category = freq_table(googleplay_final, 1)\n",
    "\n",
    "## Get number of reviews for each category\n",
    "table_display = []\n",
    "for category in googleplay_category:\n",
    "    total = 0\n",
    "    len_category = 0\n",
    "    for row in googleplay_final:\n",
    "        category_app = row[1]\n",
    "        if category_app == category:\n",
    "            reviews = int(row[3])\n",
    "            if reviews > 100 and reviews < 12500000:\n",
    "                total += reviews\n",
    "                len_category += 1\n",
    "\n",
    "    ## Convert to int to make results more readable\n",
    "    average = int(total/len_category) \n",
    "    \n",
    "    \n",
    "## Repurpose code from DataQuest to create sorted list by average number \n",
    "## of user ratings, as well as the number of apps in that genre\n",
    "    key_val_as_tuple = (average, category, len_category)\n",
    "    table_display.append(key_val_as_tuple)\n",
    "\n",
    "\n",
    "table_sorted = sorted(table_display, reverse = True)\n",
    "for entry in table_sorted:\n",
    "    print(entry[1], ':', entry[0], \"Number of apps:\", entry[2])\n",
    "    "
   ]
  },
  {
   "cell_type": "markdown",
   "metadata": {},
   "source": [
    "## Final Analysis and Recommendations\n",
    "\n",
    "Initially, based on the popularity of categories, a recommendation was made to pursue a games app, perhaps for kids.  However, upon further analysis of user reviews and installs, it appears that those categories are saturated compared to other categories.  To elaborate, even if the company creates a great game, it will probably be more difficult to get noticed based on the number of apps in the category, both in the Google Play Store and the Apple Store.  \n",
    "\n",
    "Because the main source of revenue for this company is from in-app ads, I would recommend taking a look at categories where:\n",
    "\n",
    "1.  There are not a large number of existing apps\n",
    "2.  There are still a relatively high number of installs or reviews\n",
    "3.  The category lends itself to targeted advertising\n",
    "\n",
    "My first recommendation would be \"Food and Drink\".  This category does not have a large number of apps in either store, but has high numbers of installs/reviews.  Based on user responses in the app, there is the potential for targeted advertising through recommendations.\n",
    "\n",
    "\"Books and Reference\" is also of interest, although I would recommend further analysis on the Google Play Store to examine the potential for targeted advertisting.  \n",
    "\n",
    "I would also recommend further analysis of \"Travel and Local\" based on the same reasoning as \"Books and Reference\"."
   ]
  }
 ],
 "metadata": {
  "kernelspec": {
   "display_name": "Python 3",
   "language": "python",
   "name": "python3"
  },
  "language_info": {
   "codemirror_mode": {
    "name": "ipython",
    "version": 3
   },
   "file_extension": ".py",
   "mimetype": "text/x-python",
   "name": "python",
   "nbconvert_exporter": "python",
   "pygments_lexer": "ipython3",
   "version": "3.4.3"
  }
 },
 "nbformat": 4,
 "nbformat_minor": 2
}
